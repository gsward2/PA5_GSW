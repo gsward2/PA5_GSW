{
 "cells": [
  {
   "cell_type": "markdown",
   "id": "6a56c646-ca2d-4865-af61-dd3bdb272b9f",
   "metadata": {},
   "source": [
    "# Programming Assignment 5\n",
    "---\n",
    "**Author:** Garrett Ward \n",
    "**Version:** 1.0  \n",
    "**Semester:** Spring 2024 \n",
    "\n",
    "This *notebook* contains my solution(s) to **Programming Assignment 5**"
   ]
  },
  {
   "cell_type": "markdown",
   "id": "78f5220e-e652-4b95-b015-30b9c70c73b8",
   "metadata": {},
   "source": [
    "### Problem 1 - Language Translator"
   ]
  },
  {
   "cell_type": "code",
   "execution_count": 2,
   "id": "a7517a9a-940e-4b38-bd7f-2849497001e3",
   "metadata": {
    "tags": []
   },
   "outputs": [
    {
     "name": "stdout",
     "output_type": "stream",
     "text": [
      "Enter a word in English to translate it to German. Or enter 'Q' to quit.\n"
     ]
    },
    {
     "name": "stdin",
     "output_type": "stream",
     "text": [
      "Enter an English word (or 'Q' to quit):  Sad\n"
     ]
    },
    {
     "name": "stdout",
     "output_type": "stream",
     "text": [
      "The German word for Sad is traurig.\n"
     ]
    },
    {
     "name": "stdin",
     "output_type": "stream",
     "text": [
      "Enter an English word (or 'Q' to quit):  Flower\n"
     ]
    },
    {
     "name": "stdout",
     "output_type": "stream",
     "text": [
      "The German word for Flower is Blume.\n"
     ]
    },
    {
     "name": "stdin",
     "output_type": "stream",
     "text": [
      "Enter an English word (or 'Q' to quit):  Love\n"
     ]
    },
    {
     "name": "stdout",
     "output_type": "stream",
     "text": [
      "The German word for Love is Liebe.\n"
     ]
    },
    {
     "name": "stdin",
     "output_type": "stream",
     "text": [
      "Enter an English word (or 'Q' to quit):  \n"
     ]
    },
    {
     "name": "stdout",
     "output_type": "stream",
     "text": [
      "The German translation for  is not available.\n"
     ]
    },
    {
     "name": "stdin",
     "output_type": "stream",
     "text": [
      "Enter an English word (or 'Q' to quit):  Q\n"
     ]
    }
   ],
   "source": [
    "translation_dictionary = {\n",
    "    'apple': 'Apfel',\n",
    "    'banana': 'Banane',\n",
    "    'car': 'Auto',\n",
    "    'house': 'Haus',\n",
    "    'sun': 'Sonne',\n",
    "    'moon': 'Mond',\n",
    "    'water': 'Wasser',\n",
    "    'fire': 'Feuer',\n",
    "    'tree': 'Baum',\n",
    "    'mountain': 'Berg',\n",
    "    'cat': 'Katze',\n",
    "    'dog': 'Hund',\n",
    "    'book': 'Buch',\n",
    "    'computer': 'Computer',\n",
    "    'phone': 'Telefon',\n",
    "    'flower': 'Blume',\n",
    "    'friend': 'Freund',\n",
    "    'love': 'Liebe',\n",
    "    'happy': 'glücklich',\n",
    "    'sad': 'traurig',\n",
    "}\n",
    "\n",
    "def translate_word(word):\n",
    "    if word.lower() in translation_dictionary:\n",
    "        translated_word = translation_dictionary[word.lower()]\n",
    "        print(f\"The German word for {word} is {translated_word}.\")\n",
    "    else:\n",
    "        print(f\"The German translation for {word} is not available.\")\n",
    "\n",
    "def main():\n",
    "    print(\"Enter a word in English to translate it to German. Or enter 'Q' to quit.\")\n",
    "\n",
    "    while True:\n",
    "        word = input(\"Enter an English word (or 'Q' to quit): \")\n",
    "        if word.lower() == 'q':\n",
    "            break\n",
    "        translate_word(word)\n",
    "\n",
    "if __name__ == \"__main__\":\n",
    "    main()"
   ]
  },
  {
   "cell_type": "markdown",
   "id": "d4abf9c5-0b5a-46a6-8769-90e21a7d76ed",
   "metadata": {},
   "source": [
    "### Problem 2 - Translating Morse Code"
   ]
  },
  {
   "cell_type": "code",
   "execution_count": 5,
   "id": "9b6adf86-721b-4f85-98c8-b94140d591f4",
   "metadata": {
    "tags": []
   },
   "outputs": [
    {
     "name": "stdout",
     "output_type": "stream",
     "text": [
      "Enter a sentence to translate to Morse Code.Or enter 'q' to quit.\n"
     ]
    },
    {
     "name": "stdin",
     "output_type": "stream",
     "text": [
      "Enter a sentence (or 'q' to quit):  Hello world\n"
     ]
    },
    {
     "name": "stdout",
     "output_type": "stream",
     "text": [
      "Morse Code Translation: .... . .-.. .-.. --- .-- --- .-. .-.. -..\n"
     ]
    },
    {
     "name": "stdin",
     "output_type": "stream",
     "text": [
      "Enter a sentence (or 'q' to quit):  S O S\n"
     ]
    },
    {
     "name": "stdout",
     "output_type": "stream",
     "text": [
      "Morse Code Translation: ... --- ...\n"
     ]
    },
    {
     "name": "stdin",
     "output_type": "stream",
     "text": [
      "Enter a sentence (or 'q' to quit):  q\n"
     ]
    }
   ],
   "source": [
    "morse_code_dictionary = {\n",
    "    'A': '.-', 'B': '-...', 'C': '-.-.', 'D': '-..', 'E': '.', 'F': '..-.', 'G': '--.', 'H': '....', 'I': '..', 'J': '.---',\n",
    "    'K': '-.-', 'L': '.-..', 'M': '--', 'N': '-.', 'O': '---', 'P': '.--.', 'Q': '--.-', 'R': '.-.', 'S': '...', 'T': '-',\n",
    "    'U': '..-', 'V': '...-', 'W': '.--', 'X': '-..-', 'Y': '-.--', 'Z': '--..',\n",
    "    '0': '-----', '1': '.----', '2': '..---', '3': '...--', '4': '....-', '5': '.....',\n",
    "    '6': '-....', '7': '--...', '8': '---..', '9': '----.',\n",
    "}\n",
    "\n",
    "def translate_to_morse(sentence):\n",
    "    morse_code_translation = \"\"\n",
    "    for char in sentence:\n",
    "        if char.upper() in morse_code_dictionary:\n",
    "            morse_code_translation += morse_code_dictionary[char.upper()] + \" \"\n",
    "    return morse_code_translation.strip()\n",
    "\n",
    "def main():\n",
    "    print(\"Enter a sentence to translate to Morse Code.Or enter 'q' to quit.\")\n",
    "\n",
    "    while True:\n",
    "        message = input(\"Enter a sentence (or 'q' to quit): \")\n",
    "        if message.lower() == 'q':\n",
    "            break\n",
    "        morse_code = translate_to_morse(message)\n",
    "        print(\"Morse Code Translation:\", morse_code)\n",
    "\n",
    "if __name__ == \"__main__\":\n",
    "    main()"
   ]
  },
  {
   "cell_type": "markdown",
   "id": "69787fc7-eb48-4334-a4e3-8f06f64cc84b",
   "metadata": {},
   "source": [
    "### Problem 3 - Comparing Minors/Majors"
   ]
  },
  {
   "cell_type": "code",
   "execution_count": 31,
   "id": "24c6281b-9a8d-40a2-ac55-cc114a636a46",
   "metadata": {
    "tags": []
   },
   "outputs": [
    {
     "name": "stdout",
     "output_type": "stream",
     "text": [
      " i. If a student minors in Business Administration and Business Analytics the courses that overlap are:{'BUSA103'}.\n",
      " ii. If a student minors in Business Administration and Computer Science they will have to take all of the following courses:{'CS131', 'MATH120', 'CS400', 'BUSA301', 'MATH125', 'BUSA103', 'FINA315', 'CS215', 'ECON110', 'CS101', 'CS233', 'BUSA305', 'BUSA203', 'MATH117', 'CS100', 'CS330', 'ACCT101'}.\n",
      " iii. Courses required to minor in Business Administration but not Business Analytics:{'ACCT101', 'BUSA301', 'MATH125', 'FINA315', 'BUSA305', 'BUSA203', 'MATH117', 'ECON110'}.\n",
      " iv. The overlapping courses for a minor in Computer Science and Data Science are: None\n",
      " v. Is Business Analytics completely subsumed by Data Science? Yes\n"
     ]
    }
   ],
   "source": [
    "cs_minor = {\"CS100\", \"CS101\", \"CS131\", \"CS215\", \"CS233\", \"CS330\",\"CS400\", \"MATH120\"} \n",
    "buisness_admin_minor = {\"BUSA103\",\"BUSA203\", \"BUSA301\", \"BUSA305\", \"ACCT101\", \"ECON110\", \"FINA315\", \"MATH125\", \"MATH117\"}\n",
    "business_analytics_minor = {\"BUSA103\", \"BUSA245\", \"BUSA346\", \"CS150\", \"DS160\", \"DS300\"}\n",
    "ds_minor = {\"BUSA103\", \"BUSA245\", \"BUSA346\", \"CS150\", \"DS160\", \"DS300\", \"DS450\", \"MATH205\", \"MATH215\", \"MATH430\", \"ECON410\", \"ECON322\", \"ECON351\", \"DS444\"} \n",
    "\n",
    "business_admin_and_analytics_overlap = buisness_admin_minor.intersection(business_analytics_minor)\n",
    "print(f\" i. If a student minors in Business Administration and Business Analytics the courses that overlap are:{business_admin_and_analytics_overlap}.\")\n",
    "\n",
    "all_buisness_admin_and_cs_classes = buisness_admin_minor.union(cs_minor)\n",
    "print(f\" ii. If a student minors in Business Administration and Computer Science they will have to take all of the following courses:{all_buisness_admin_and_cs_classes}.\")\n",
    "\n",
    "business_admin_not_in_analytics = buisness_admin_minor.difference(business_analytics_minor)\n",
    "print(f\" iii. Courses required to minor in Business Administration but not Business Analytics:{business_admin_not_in_analytics}.\")\n",
    "\n",
    "cs_and_ds_overlap = cs_minor.intersection(ds_minor)\n",
    "print(f\" iv. The overlapping courses for a minor in Computer Science and Data Science are: {cs_and_ds_overlap if cs_and_ds_overlap else 'None'}\")\n",
    "\n",
    "busa_analytics_in_ds = business_analytics_minor.issubset(ds_minor)\n",
    "print(f\" v. Is Business Analytics completely subsumed by Data Science? {'Yes' if busa_analytics_in_ds else 'No'}\")"
   ]
  },
  {
   "cell_type": "markdown",
   "id": "21273d29-f839-49e5-b586-193100ff3a04",
   "metadata": {},
   "source": [
    "### Problem 4 - Working with NumPy"
   ]
  },
  {
   "cell_type": "code",
   "execution_count": 17,
   "id": "f0625140-2850-419f-b64e-1a6d99eb3c1d",
   "metadata": {
    "tags": []
   },
   "outputs": [
    {
     "name": "stdout",
     "output_type": "stream",
     "text": [
      "Array 1:\n",
      "[[17  2  5  9  4]\n",
      " [ 8 10 10 17  6]\n",
      " [ 4 16  5 15 10]\n",
      " [19  1  8  2 15]\n",
      " [ 1 12  3  9 10]]\n",
      "\n",
      " Array 2:\n",
      "[[11 13  7  6  2]\n",
      " [16 12  6 13  9]\n",
      " [11 13  6 10 19]\n",
      " [19  7  9 17  6]\n",
      " [14 10 14 14 20]]\n",
      "\n",
      " Matrix Product:\n",
      "[[384 454 574 160 756]\n",
      " [550 557 755 317 952]\n",
      " [282 231 431 124 655]\n",
      " [489 345 531 339 608]\n",
      " [381 220 460 240 639]]\n",
      "\n",
      " Dot Product:\n",
      "2581\n",
      "\n",
      "Determinant of Array 1:\n",
      "18651.999999999993\n",
      "\n",
      "Determinant of Array 2:\n",
      "-812.0000000000317\n",
      "\n",
      "Inverse of Array 1:\n",
      "[[-0.01372507 -0.09092859  0.29830581  0.05747373 -0.32446923]\n",
      " [-0.28634999 -0.17831868  0.9541068   0.18346558 -1.00777397]\n",
      " [-0.32093073  0.06133391  0.52991636  0.18764744 -0.71981557]\n",
      " [ 0.30473944  0.14389878 -0.79519623 -0.2135964   0.90735578]\n",
      " [ 0.16700622  0.0751662  -0.61805704 -0.08996354  0.74110015]]\n",
      "\n",
      "Inverse of Array 2:\n",
      "[[  6.31527094 -25.72413793  15.97044335  15.31280788  -8.82142857]\n",
      " [ -2.38916256  10.03448276  -6.18226601  -5.98768473   3.39285714]\n",
      " [ -0.20689655   1.06896552  -0.79310345  -0.68965517   0.5       ]\n",
      " [ -6.47783251  26.20689655 -16.2364532  -15.49753695   8.92857143]\n",
      " [  1.45320197  -6.10344828   3.83251232   3.60591133  -2.07142857]]\n",
      "\n",
      "Reshaped Combined Array:\n",
      "[[0.         0.05263158 0.10526316 0.15789474]\n",
      " [0.21052632 0.26315789 0.31578947 0.36842105]\n",
      " [0.42105263 0.47368421 0.52631579 0.57894737]\n",
      " [0.63157895 0.68421053 0.73684211 0.78947368]\n",
      " [0.84210526 0.89473684 0.94736842 1.        ]\n",
      " [1.         1.05263158 1.10526316 1.15789474]\n",
      " [1.21052632 1.26315789 1.31578947 1.36842105]\n",
      " [1.42105263 1.47368421 1.52631579 1.57894737]\n",
      " [1.63157895 1.68421053 1.73684211 1.78947368]\n",
      " [1.84210526 1.89473684 1.94736842 2.        ]]\n"
     ]
    }
   ],
   "source": [
    "import numpy as np\n",
    "\n",
    "array1 = np.random.randint(0, 21, size=(5, 5))\n",
    "array2 = np.random.randint(0, 21, size=(5, 5))\n",
    "\n",
    "print(\"Array 1:\")\n",
    "print(array1)\n",
    "print(\"\\n Array 2:\")\n",
    "print(array2)\n",
    "\n",
    "maxtrix_product = np.matmul(array1,array2)\n",
    "print(\"\\n Matrix Product:\")\n",
    "print(matrix_product)\n",
    "\n",
    "dot_product = np.dot(array1.flatten(), array2.flatten())\n",
    "print(\"\\n Dot Product:\")\n",
    "print(dot_product)\n",
    "\n",
    "det_array1 = np.linalg.det(array1)\n",
    "det_array2 = np.linalg.det(array2)\n",
    "\n",
    "print(\"\\nDeterminant of Array 1:\")\n",
    "print(det_array1)\n",
    "print(\"\\nDeterminant of Array 2:\")\n",
    "print(det_array2)\n",
    "\n",
    "if det_array1 != 0:\n",
    "    inv_array1 = np.linalg.inv(array1)\n",
    "    print(\"\\nInverse of Array 1:\")\n",
    "    print(inv_array1)\n",
    "else:\n",
    "    print(\"\\nArray 1 is not invertible.\")\n",
    "    \n",
    "if det_array2 != 0:\n",
    "    inv_array2 = np.linalg.inv(array2)\n",
    "    print(\"\\nInverse of Array 2:\")\n",
    "    print(inv_array2)\n",
    "else: \n",
    "    print(\"\\nArray2 is not invertible.\")\n",
    "          \n",
    "array3 = np.linspace(0,1,20)\n",
    "array4 = np.linspace(1,2,20)\n",
    "combined_array = np.concatenate((array3,array4))\n",
    "          \n",
    "reshaped_array = combined_array.reshape(10,4)\n",
    "          \n",
    "print(\"\\nReshaped Combined Array:\")\n",
    "print(reshaped_array)"
   ]
  },
  {
   "cell_type": "code",
   "execution_count": null,
   "id": "b673f127-064d-4e1e-b69b-ed739a79a7e7",
   "metadata": {},
   "outputs": [],
   "source": []
  }
 ],
 "metadata": {
  "kernelspec": {
   "display_name": "Python 3 (ipykernel)",
   "language": "python",
   "name": "python3"
  },
  "language_info": {
   "codemirror_mode": {
    "name": "ipython",
    "version": 3
   },
   "file_extension": ".py",
   "mimetype": "text/x-python",
   "name": "python",
   "nbconvert_exporter": "python",
   "pygments_lexer": "ipython3",
   "version": "3.11.5"
  }
 },
 "nbformat": 4,
 "nbformat_minor": 5
}
